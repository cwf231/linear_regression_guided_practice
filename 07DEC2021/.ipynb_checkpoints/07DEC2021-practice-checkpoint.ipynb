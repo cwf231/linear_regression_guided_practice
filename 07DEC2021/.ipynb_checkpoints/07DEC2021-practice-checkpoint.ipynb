{
 "cells": [
  {
   "cell_type": "markdown",
   "id": "10a4c7d2",
   "metadata": {},
   "source": [
    "# Regression Walkthrough"
   ]
  },
  {
   "cell_type": "code",
   "execution_count": null,
   "id": "65c3b4b4",
   "metadata": {},
   "outputs": [],
   "source": [
    "import os\n",
    "import warnings"
   ]
  },
  {
   "cell_type": "code",
   "execution_count": null,
   "id": "ae9ad310",
   "metadata": {
    "ExecuteTime": {
     "end_time": "2021-12-07T15:43:04.442519Z",
     "start_time": "2021-12-07T15:43:04.437574Z"
    }
   },
   "outputs": [],
   "source": [
    "import pandas as pd\n",
    "import numpy as np\n",
    "\n",
    "import matplotlib.pyplot as plt\n",
    "import seaborn as sns\n",
    "\n",
    "import statsmodels.api as sm\n",
    "import scipy.stats as stats\n",
    "\n",
    "from sklearn.model_selection import train_test_split\n",
    "from statsmodels.stats.outliers_influence import variance_inflation_factor\n",
    "\n",
    "from sklearn.preprocessing import OneHotEncoder, StandardScaler"
   ]
  },
  {
   "cell_type": "markdown",
   "id": "b9a54e74",
   "metadata": {},
   "source": [
    "## Load data"
   ]
  },
  {
   "cell_type": "code",
   "execution_count": null,
   "id": "41b90768",
   "metadata": {},
   "outputs": [],
   "source": []
  },
  {
   "cell_type": "markdown",
   "id": "74932f98",
   "metadata": {},
   "source": [
    "## Data Exploration"
   ]
  },
  {
   "cell_type": "code",
   "execution_count": null,
   "id": "5dfd701d",
   "metadata": {},
   "outputs": [],
   "source": []
  },
  {
   "cell_type": "markdown",
   "id": "f0c43009",
   "metadata": {},
   "source": [
    "## Split out Target"
   ]
  },
  {
   "cell_type": "code",
   "execution_count": null,
   "id": "f4c232ee",
   "metadata": {},
   "outputs": [],
   "source": []
  },
  {
   "cell_type": "markdown",
   "id": "1ea95b6a",
   "metadata": {},
   "source": [
    "## Cleaning"
   ]
  },
  {
   "cell_type": "code",
   "execution_count": null,
   "id": "1adb2ee5",
   "metadata": {},
   "outputs": [],
   "source": []
  },
  {
   "cell_type": "markdown",
   "id": "061fd097",
   "metadata": {},
   "source": [
    "## EDA"
   ]
  },
  {
   "cell_type": "code",
   "execution_count": null,
   "id": "ef7fe74b",
   "metadata": {},
   "outputs": [],
   "source": []
  },
  {
   "cell_type": "markdown",
   "id": "313a8a7d",
   "metadata": {},
   "source": [
    "## Data Processing / Feature Engineering"
   ]
  },
  {
   "cell_type": "code",
   "execution_count": null,
   "id": "8a94d856",
   "metadata": {},
   "outputs": [],
   "source": []
  },
  {
   "cell_type": "markdown",
   "id": "7630559e",
   "metadata": {},
   "source": [
    "## Modeling\n",
    "**Linear Model Assumptions**\n",
    "1. *Residual Normality*\n",
    "    - `sm.graphics.qqplot(model.resid, dist=stats.norm, line='45', fit=True)`\n",
    "    - *Omnibus Value*\n",
    "    \n",
    "    \n",
    "2. *Homoskedasticity*\n",
    "    - *Durbin-Watson*\n",
    "    \n",
    "    \n",
    "3. *Multicollinearity*\n",
    "    - *VIF* (`variance_inflation_factor()`)"
   ]
  },
  {
   "cell_type": "code",
   "execution_count": null,
   "id": "eacc9136",
   "metadata": {},
   "outputs": [],
   "source": [
    "def create_vif_dct(dataframe, const_col_name='const'):\n",
    "    \"\"\"DOCSTRING\"\"\"\n",
    "    \n",
    "    if const_col_name not in dataframe.columns:\n",
    "        dataframe = sm.add_constant(dataframe)\n",
    "        \n",
    "    # Dummy-checking.\n",
    "    df = dataframe.select_dtypes('number')\n",
    "    if df.shape != dataframe.shape:\n",
    "        warnings.warn('\\n\\nThere are non-numerical columns trying to be passed!\\nThese have automatically been removed.\\n')\n",
    "    if df.isna().sum().any():\n",
    "        raise ValueError('There may not be any missing values in the dataframe!')\n",
    "        \n",
    "    # Creating VIF Dictionary.\n",
    "    vif_dct = {}\n",
    "\n",
    "    # Loop through each row and set the variable name to the VIF. \n",
    "    for i in range(len(df.columns)):\n",
    "        vif = variance_inflation_factor(df.values, i)\n",
    "        v = df.columns[i]\n",
    "        vif_dct[v] = vif\n",
    "\n",
    "    return vif_dct"
   ]
  },
  {
   "cell_type": "markdown",
   "id": "0876a86c",
   "metadata": {},
   "source": [
    "### Baseline Model"
   ]
  },
  {
   "cell_type": "code",
   "execution_count": null,
   "id": "6baee5a3",
   "metadata": {},
   "outputs": [],
   "source": []
  },
  {
   "cell_type": "markdown",
   "id": "2b77f74f",
   "metadata": {},
   "source": [
    "### Modeling: Iterations"
   ]
  },
  {
   "cell_type": "code",
   "execution_count": null,
   "id": "eb51ffe1",
   "metadata": {},
   "outputs": [],
   "source": []
  }
 ],
 "metadata": {
  "kernelspec": {
   "display_name": "Python [conda env:learn-env] *",
   "language": "python",
   "name": "conda-env-learn-env-py"
  },
  "language_info": {
   "codemirror_mode": {
    "name": "ipython",
    "version": 3
   },
   "file_extension": ".py",
   "mimetype": "text/x-python",
   "name": "python",
   "nbconvert_exporter": "python",
   "pygments_lexer": "ipython3",
   "version": "3.6.9"
  },
  "toc": {
   "base_numbering": 1,
   "nav_menu": {},
   "number_sections": false,
   "sideBar": true,
   "skip_h1_title": false,
   "title_cell": "Table of Contents",
   "title_sidebar": "Contents",
   "toc_cell": false,
   "toc_position": {
    "height": "calc(100% - 180px)",
    "left": "10px",
    "top": "150px",
    "width": "384px"
   },
   "toc_section_display": true,
   "toc_window_display": true
  }
 },
 "nbformat": 4,
 "nbformat_minor": 5
}
