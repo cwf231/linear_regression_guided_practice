{
 "cells": [
  {
   "cell_type": "markdown",
   "id": "780524c4",
   "metadata": {},
   "source": [
    "# Linear Regression: Basics\n",
    "***Part [1/2]***\n",
    "\n",
    "---\n",
    "\n",
    "### Objectives\n",
    "- Perform simple **EDA**.\n",
    "    - *Correlation Matrix*\n",
    "    - *Scatterplots*\n",
    "    \n",
    "    \n",
    "- **Create a model** and training it on data.\n",
    "\n",
    "\n",
    "- Read the basics from a *`statsmodels`* **model summary.**\n",
    "    - $\\large R^2$\n",
    "    - $\\large P\\text{-values}$\n",
    "\n",
    "\n",
    "- Make **predictions** on the data.\n",
    "    - *Learn about **residuals** and simple **regression metrics**.*"
   ]
  },
  {
   "cell_type": "code",
   "execution_count": null,
   "id": "27cb5ee1",
   "metadata": {
    "ExecuteTime": {
     "end_time": "2022-02-24T15:56:04.202692Z",
     "start_time": "2022-02-24T15:56:04.198706Z"
    }
   },
   "outputs": [],
   "source": [
    "# Imports\n",
    "import pandas as pd\n",
    "\n",
    "import matplotlib.pyplot as plt\n",
    "import seaborn as sns\n",
    "\n",
    "import statsmodels.api as sm\n",
    "from statsmodels.formula.api import ols"
   ]
  },
  {
   "cell_type": "code",
   "execution_count": null,
   "id": "cb72cf9c",
   "metadata": {
    "ExecuteTime": {
     "end_time": "2022-02-24T15:38:16.338542Z",
     "start_time": "2022-02-24T15:38:16.323191Z"
    }
   },
   "outputs": [],
   "source": [
    "# Load in data.\n",
    "df = pd.read_csv('data/advertising.csv', index_col=0)\n",
    "df"
   ]
  },
  {
   "cell_type": "markdown",
   "id": "fc5ccfab",
   "metadata": {},
   "source": [
    "## EDA\n",
    "- *Correlation Matrix*\n",
    "\n",
    "- *Scatterplots*"
   ]
  },
  {
   "cell_type": "code",
   "execution_count": null,
   "id": "f408a438",
   "metadata": {},
   "outputs": [],
   "source": [
    "corr = (\n",
    "    df\n",
    "    .corr()\n",
    "    .abs()\n",
    "    .round(3)\n",
    ")\n",
    "corr"
   ]
  },
  {
   "cell_type": "code",
   "execution_count": null,
   "id": "8915576b",
   "metadata": {},
   "outputs": [],
   "source": [
    "fig, ax = plt.subplots(figsize=(8,6))\n",
    "\n",
    "# Set a 'mask' for the upper half of the heatmap. \n",
    "mask = np.triu(np.ones_like(corr, dtype=np.bool))\n",
    "\n",
    "sns.heatmap(corr, annot=True, mask=mask, cmap='Blues', ax=ax)\n",
    "plt.setp(ax.get_xticklabels(), rotation=0, ha=\"center\",)\n",
    "plt.setp(ax.get_yticklabels(), rotation=0)\n",
    "\n",
    "# Fix the cutoff squares and remove empty row and column. \n",
    "ax.set_ylim(len(corr), 1)\n",
    "ax.set_xlim(xmax=len(corr)-1)\n",
    "\n",
    "fig.tight_layout()"
   ]
  },
  {
   "cell_type": "code",
   "execution_count": null,
   "id": "f294a471",
   "metadata": {},
   "outputs": [],
   "source": []
  },
  {
   "cell_type": "code",
   "execution_count": null,
   "id": "f5d827f9",
   "metadata": {},
   "outputs": [],
   "source": []
  },
  {
   "cell_type": "markdown",
   "id": "f39e1b61",
   "metadata": {},
   "source": [
    "## Modeling"
   ]
  },
  {
   "cell_type": "markdown",
   "id": "fce2156f",
   "metadata": {},
   "source": [
    "### Train a Model: Simple Linear Regression\n",
    "> ***One*** *predictive feature.*"
   ]
  },
  {
   "cell_type": "code",
   "execution_count": null,
   "id": "08ab3072",
   "metadata": {},
   "outputs": [],
   "source": []
  },
  {
   "cell_type": "code",
   "execution_count": null,
   "id": "80c3c049",
   "metadata": {},
   "outputs": [],
   "source": []
  },
  {
   "cell_type": "code",
   "execution_count": null,
   "id": "7a3a4dd9",
   "metadata": {},
   "outputs": [],
   "source": []
  },
  {
   "cell_type": "markdown",
   "id": "9903ad92",
   "metadata": {},
   "source": [
    "#### Review Model Summary\n",
    "> $R^2$, $P\\text{-values}$"
   ]
  },
  {
   "cell_type": "code",
   "execution_count": null,
   "id": "12eedc51",
   "metadata": {},
   "outputs": [],
   "source": []
  },
  {
   "cell_type": "markdown",
   "id": "0c42057a",
   "metadata": {},
   "source": [
    "### Train a Model: Multiple Linear Regression\n",
    "> ***Multiple*** *predictive features.*"
   ]
  },
  {
   "cell_type": "code",
   "execution_count": null,
   "id": "d1e60d01",
   "metadata": {},
   "outputs": [],
   "source": []
  },
  {
   "cell_type": "code",
   "execution_count": null,
   "id": "d3c49443",
   "metadata": {},
   "outputs": [],
   "source": []
  },
  {
   "cell_type": "code",
   "execution_count": null,
   "id": "000f0de0",
   "metadata": {},
   "outputs": [],
   "source": []
  },
  {
   "cell_type": "markdown",
   "id": "f142b884",
   "metadata": {},
   "source": [
    "#### Review Model Summary"
   ]
  },
  {
   "cell_type": "code",
   "execution_count": null,
   "id": "b9ebca5c",
   "metadata": {},
   "outputs": [],
   "source": []
  },
  {
   "cell_type": "markdown",
   "id": "41b216e9",
   "metadata": {},
   "source": [
    "### Make Predictions"
   ]
  },
  {
   "cell_type": "code",
   "execution_count": null,
   "id": "f5b9ffc7",
   "metadata": {},
   "outputs": [],
   "source": []
  },
  {
   "cell_type": "code",
   "execution_count": null,
   "id": "b7504866",
   "metadata": {},
   "outputs": [],
   "source": []
  },
  {
   "cell_type": "code",
   "execution_count": null,
   "id": "496e6221",
   "metadata": {},
   "outputs": [],
   "source": []
  }
 ],
 "metadata": {
  "kernelspec": {
   "display_name": "Python 3",
   "language": "python",
   "name": "python3"
  },
  "language_info": {
   "codemirror_mode": {
    "name": "ipython",
    "version": 3
   },
   "file_extension": ".py",
   "mimetype": "text/x-python",
   "name": "python",
   "nbconvert_exporter": "python",
   "pygments_lexer": "ipython3",
   "version": "3.6.9"
  },
  "toc": {
   "base_numbering": 1,
   "nav_menu": {},
   "number_sections": false,
   "sideBar": true,
   "skip_h1_title": false,
   "title_cell": "Table of Contents",
   "title_sidebar": "Contents",
   "toc_cell": false,
   "toc_position": {},
   "toc_section_display": true,
   "toc_window_display": true
  }
 },
 "nbformat": 4,
 "nbformat_minor": 5
}
