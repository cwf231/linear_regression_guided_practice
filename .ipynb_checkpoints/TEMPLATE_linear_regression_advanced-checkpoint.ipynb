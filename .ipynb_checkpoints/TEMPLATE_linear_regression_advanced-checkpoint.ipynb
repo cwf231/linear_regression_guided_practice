{
 "cells": [
  {
   "cell_type": "markdown",
   "id": "0bced411",
   "metadata": {},
   "source": [
    "# Linear Regression: Advanced\n",
    "***Part [2/2]***\n",
    "\n",
    "---\n",
    "\n",
    "### Objectives\n",
    "- Review **building a model** (with only numerical data) in StatsModels.\n",
    "    - Model Summary\n",
    "    - Interpreting coefficients\n",
    "\n",
    "\n",
    "- Evaluating **Model Performance.** *(Beyond $R^2$)*\n",
    "\n",
    "\n",
    "- Encoding **categorical variables.**\n",
    "\n",
    "\n",
    "- Checking **assumptions of Linear Regression.**"
   ]
  },
  {
   "cell_type": "code",
   "execution_count": null,
   "id": "f7f6abf0",
   "metadata": {
    "ExecuteTime": {
     "end_time": "2022-03-03T18:51:35.320919Z",
     "start_time": "2022-03-03T18:51:35.316950Z"
    }
   },
   "outputs": [],
   "source": [
    "import pandas as pd\n",
    "import numpy as np\n",
    "import matplotlib.pyplot as plt\n",
    "import seaborn as sns\n",
    "\n",
    "import statsmodels.api as sm\n",
    "\n",
    "from sklearn.metrics import mean_absolute_error, mean_squared_error\n",
    "\n",
    "from statsmodels.stats.outliers_influence import variance_inflation_factor"
   ]
  },
  {
   "cell_type": "code",
   "execution_count": null,
   "id": "9c1b7071",
   "metadata": {},
   "outputs": [],
   "source": [
    "df = pd.read_csv('../data/advertising.csv', index_col=0)\n",
    "df.head()"
   ]
  },
  {
   "cell_type": "code",
   "execution_count": null,
   "id": "8fec4400",
   "metadata": {},
   "outputs": [],
   "source": [
    "# Split into X and y.\n"
   ]
  },
  {
   "cell_type": "markdown",
   "id": "280bf425",
   "metadata": {},
   "source": [
    "## Review: Building a basic model."
   ]
  },
  {
   "cell_type": "code",
   "execution_count": null,
   "id": "f399c3fe",
   "metadata": {},
   "outputs": [],
   "source": [
    "# Build model - single-predictor.\n"
   ]
  },
  {
   "cell_type": "code",
   "execution_count": null,
   "id": "bda194d4",
   "metadata": {},
   "outputs": [],
   "source": [
    "# Check summary.\n"
   ]
  },
  {
   "cell_type": "code",
   "execution_count": null,
   "id": "d1580504",
   "metadata": {},
   "outputs": [],
   "source": []
  },
  {
   "cell_type": "code",
   "execution_count": null,
   "id": "0d343677",
   "metadata": {},
   "outputs": [],
   "source": []
  },
  {
   "cell_type": "markdown",
   "id": "97d1becd",
   "metadata": {},
   "source": [
    "## Evaluating performance."
   ]
  },
  {
   "cell_type": "code",
   "execution_count": null,
   "id": "2f1626d3",
   "metadata": {},
   "outputs": [],
   "source": [
    "# Get predictions.\n"
   ]
  },
  {
   "cell_type": "code",
   "execution_count": null,
   "id": "49f3069b",
   "metadata": {},
   "outputs": [],
   "source": [
    "# MAE\n"
   ]
  },
  {
   "cell_type": "code",
   "execution_count": null,
   "id": "5c5cddb7",
   "metadata": {},
   "outputs": [],
   "source": [
    "# MSE\n"
   ]
  },
  {
   "cell_type": "code",
   "execution_count": null,
   "id": "2c58138e",
   "metadata": {},
   "outputs": [],
   "source": [
    "# RMSE\n"
   ]
  },
  {
   "cell_type": "markdown",
   "id": "90d188b6",
   "metadata": {},
   "source": [
    "## Processing: Categorical Variables & Scaling."
   ]
  },
  {
   "cell_type": "code",
   "execution_count": null,
   "id": "cdafb615",
   "metadata": {},
   "outputs": [],
   "source": [
    "# Load mpg dataset.\n"
   ]
  },
  {
   "cell_type": "code",
   "execution_count": null,
   "id": "293aec81",
   "metadata": {},
   "outputs": [],
   "source": [
    "# Drop na.\n",
    "\n",
    "\n",
    "# Set X, y.\n"
   ]
  },
  {
   "cell_type": "code",
   "execution_count": null,
   "id": "ca562bfe",
   "metadata": {},
   "outputs": [],
   "source": [
    "# Use get_dummies() for categorical variables.\n"
   ]
  },
  {
   "cell_type": "code",
   "execution_count": null,
   "id": "22ba48cd",
   "metadata": {},
   "outputs": [],
   "source": [
    "# Concatinate X to include OHE'd variables.\n"
   ]
  },
  {
   "cell_type": "markdown",
   "id": "d2d23b72",
   "metadata": {},
   "source": [
    "## Remodeling: Include All Predictors\n"
   ]
  },
  {
   "cell_type": "code",
   "execution_count": null,
   "id": "00202737",
   "metadata": {},
   "outputs": [],
   "source": [
    "# Build model on mpg.\n"
   ]
  },
  {
   "cell_type": "code",
   "execution_count": null,
   "id": "a8688c71",
   "metadata": {},
   "outputs": [],
   "source": [
    "# Check summary.\n"
   ]
  },
  {
   "cell_type": "markdown",
   "id": "8efc5522",
   "metadata": {},
   "source": [
    "### Interpreting coefficients."
   ]
  },
  {
   "cell_type": "code",
   "execution_count": null,
   "id": "ca0711fa",
   "metadata": {},
   "outputs": [],
   "source": []
  },
  {
   "cell_type": "code",
   "execution_count": null,
   "id": "81a21df9",
   "metadata": {},
   "outputs": [],
   "source": []
  },
  {
   "cell_type": "markdown",
   "id": "509862b0",
   "metadata": {},
   "source": [
    "## Checking for Assumptions"
   ]
  },
  {
   "cell_type": "markdown",
   "id": "af69bcab",
   "metadata": {},
   "source": [
    "### 1. Linearity\n",
    "\n",
    "**The relationship between the target and predictor is linear.** Check this by drawing a scatter plot of your predictor and your target, and see if there is evidence that the relationship might not follow a straight line OR look at the correlation coefficient.\n",
    "\n",
    "**What can I do if it looks like I'm violating this assumption?**\n",
    "\n",
    "- Consider log-scaling your data.\n",
    "- Consider a different type of model!"
   ]
  },
  {
   "cell_type": "markdown",
   "id": "2816da5f",
   "metadata": {},
   "source": [
    "### 2. Normality\n",
    "The normality assumption states that the model _residuals_ should follow a normal distribution.\n",
    "**Note**: the normality assumption talks about the model residuals and not about the distributions of the variables!\n",
    "\n",
    "**How can I check for this?**\n",
    "* Check the Omnibus value (This is a test for error normality. The probability is the chance that the errors are normally distributed.)\n",
    "    - Normal Test *https://docs.scipy.org/doc/scipy/reference/generated/scipy.stats.normaltest.html*\n",
    "* Build a QQ-Plot.\n",
    "\n",
    "**What can I do if it looks like I'm violating this assumption?**\n",
    "* Drop outliers \n",
    "* Consider log-scaling your data \n",
    "\n",
    "***Demo: Sample Residual Distributions and their QQ-plots.***\n",
    "\n",
    "<img src='https://github.com/learn-co-students/dsc-01-10-11-regression-assumptions-online-ds-ft-031119/raw/master/images/inhouse_qq_plots.png' width=700/>\n",
    "\n",
    "---\n",
    "\n",
    "```python\n",
    "# Demo of `qqplot` code.\n",
    "fig = sm.graphics.qqplot(residuals, line='45', fit=True);\n",
    "```"
   ]
  },
  {
   "cell_type": "code",
   "execution_count": null,
   "id": "8ebc1441",
   "metadata": {},
   "outputs": [],
   "source": []
  },
  {
   "cell_type": "markdown",
   "id": "5434f743",
   "metadata": {},
   "source": [
    "### 3. Homoskedasticity\n",
    "\n",
    "The errors should be homoskedastic. That is, the errors have the same variance.\n",
    "\n",
    "Basically if the residuals are evenly spread through range\n",
    "\n",
    "<img src='https://github.com/learn-co-students/dsc-01-10-11-regression-assumptions-online-ds-ft-031119/raw/master/images/homo_2.png' width=700/>\n",
    "\n",
    "The residual errors have the same variance.\n",
    "\n",
    "**How can I check for this?**\n",
    "\n",
    "* Check the Durbin-Watson score (This is a test for error homoskedasticity. We're looking for values between ~1.5 and ~2.5).\n",
    "    - Documentation: *https://www.statsmodels.org/stable/generated/statsmodels.stats.stattools.durbin_watson.html*\n",
    "    - Demonstration: *https://www.statology.org/durbin-watson-test-python/*\n",
    "* Build an error plot, i.e. a plot of errors for a particular predictor (vs. the values of that predictor).\n",
    "\n",
    "**What can I do if it looks like I'm violating this assumption?**\n",
    "\n",
    "* Consider dropping extreme values.\n",
    "* Consider log-scaling your target.\n",
    "* Consider a different type of model!\n",
    "\n",
    "```python\n",
    "# Demo of Homoskedasticity\n",
    "plt.scatter(x=fitted.fittedvalues,y=fitted.resid)\n",
    "```"
   ]
  },
  {
   "cell_type": "code",
   "execution_count": null,
   "id": "8dc396ce",
   "metadata": {},
   "outputs": [],
   "source": []
  },
  {
   "cell_type": "markdown",
   "id": "e849e735",
   "metadata": {},
   "source": [
    "### 4. Multicollinearity\n",
    "\n",
    "The interpretation of a regression coefficient is that it represents the average change in the dependent variable for each 1 unit change in a predictor, assuming that all the other predictor variables are kept constant. Multicollinearity occurs when 2 or more of the independent variables are highly correlated with each other.\n",
    "\n",
    "**How can I check for this?**\n",
    "1. Use `variance_inflation_factor()`\n",
    "2. Look at a scatter matrix \n",
    "3. Look at a heatmap \n",
    "\n",
    "**What can I do if it looks like I'm violating this assumption?**\n",
    "- Remove features that are highly collinear with each other.\n",
    "\n",
    "#### Important: Note on *VIF*\n",
    "> *The variance inflation factor is a measure for the increase of the\n",
    "variance of the parameter estimates if an additional variable, given by\n",
    "exog_idx is added to the linear regression. It is a measure for\n",
    "multicollinearity of the design matrix, exog.*\n",
    ">\n",
    "> ***One recommendation is that if VIF is greater than 5, then the explanatory\n",
    "variable given by exog_idx is highly collinear with the other explanatory\n",
    "variables***, *and the parameter estimates will have large standard errors\n",
    "because of this.*\n",
    "\n",
    "\n",
    "***Important***\n",
    "- **When using VIF, you must include an intercept (constant column) for the results of this test to be accurate.**"
   ]
  },
  {
   "cell_type": "code",
   "execution_count": null,
   "id": "d4f6c636",
   "metadata": {},
   "outputs": [],
   "source": [
    "# Writing a function to create VIF dictionary.\n",
    "def create_vif_dictionary(X):\n",
    "    \"\"\"\n",
    "    Parameters\n",
    "    ----------\n",
    "    X: Pandas dataframe of predictive variables only.\n",
    "        Should have `.columns` and `.values` attributes.\n",
    "    \"\"\"\n",
    "    \n",
    "    vif_dct = {}\n",
    "\n",
    "    # Loop through each row and set the variable name to the VIF. \n",
    "    for i in range(len(X.columns)):\n",
    "        # Calculate VIF\n",
    "        vif = variance_inflation_factor(X.values, i)\n",
    "        \n",
    "        # Extract column name for dictionary key.\n",
    "        v = X.columns[i]\n",
    "        \n",
    "        # Set value in dictionary.\n",
    "        vif_dct[v] = vif\n",
    "\n",
    "    return vif_dct"
   ]
  },
  {
   "cell_type": "code",
   "execution_count": null,
   "id": "b9dcc2e9",
   "metadata": {},
   "outputs": [],
   "source": []
  }
 ],
 "metadata": {
  "kernelspec": {
   "display_name": "Python 3",
   "language": "python",
   "name": "python3"
  },
  "language_info": {
   "codemirror_mode": {
    "name": "ipython",
    "version": 3
   },
   "file_extension": ".py",
   "mimetype": "text/x-python",
   "name": "python",
   "nbconvert_exporter": "python",
   "pygments_lexer": "ipython3",
   "version": "3.6.9"
  },
  "toc": {
   "base_numbering": 1,
   "nav_menu": {},
   "number_sections": false,
   "sideBar": true,
   "skip_h1_title": false,
   "title_cell": "Table of Contents",
   "title_sidebar": "Contents",
   "toc_cell": false,
   "toc_position": {
    "height": "calc(100% - 180px)",
    "left": "10px",
    "top": "150px",
    "width": "317px"
   },
   "toc_section_display": true,
   "toc_window_display": true
  }
 },
 "nbformat": 4,
 "nbformat_minor": 5
}
