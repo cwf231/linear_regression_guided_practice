{
 "cells": [
  {
   "cell_type": "markdown",
   "id": "2985d751",
   "metadata": {},
   "source": [
    "# Linear Regression: Advanced\n",
    "***Part [2/2]***\n",
    "\n",
    "---\n",
    "\n",
    "### Objectives\n",
    "- Review **building a model** (with only numerical data) in StatsModels.\n",
    "    - Model Summary\n",
    "    - Interpreting coefficients\n",
    "\n",
    "\n",
    "- Evaluating **Model Performance.** *(Beyond $R^2$)*\n",
    "\n",
    "\n",
    "- Encoding **categorical variables.**\n",
    "\n",
    "\n",
    "- Checking **assumptions of Linear Regression.**"
   ]
  },
  {
   "cell_type": "code",
   "execution_count": 1,
   "id": "e7efe059",
   "metadata": {
    "ExecuteTime": {
     "end_time": "2022-08-15T21:09:54.549419Z",
     "start_time": "2022-08-15T21:09:53.027561Z"
    }
   },
   "outputs": [
    {
     "name": "stderr",
     "output_type": "stream",
     "text": [
      "/opt/anaconda3/envs/learn-env/lib/python3.6/site-packages/statsmodels/tools/_testing.py:19: FutureWarning: pandas.util.testing is deprecated. Use the functions in the public API at pandas.testing instead.\n",
      "  import pandas.util.testing as tm\n"
     ]
    }
   ],
   "source": [
    "import pandas as pd\n",
    "import numpy as np\n",
    "import matplotlib.pyplot as plt\n",
    "import seaborn as sns\n",
    "\n",
    "import statsmodels.api as sm\n",
    "\n",
    "from sklearn.metrics import mean_absolute_error, mean_squared_error\n",
    "\n",
    "from statsmodels.stats.outliers_influence import variance_inflation_factor"
   ]
  },
  {
   "cell_type": "code",
   "execution_count": 2,
   "id": "fe55dc6f",
   "metadata": {
    "ExecuteTime": {
     "end_time": "2022-08-15T21:09:54.573606Z",
     "start_time": "2022-08-15T21:09:54.551964Z"
    }
   },
   "outputs": [
    {
     "data": {
      "text/html": [
       "<div>\n",
       "<style scoped>\n",
       "    .dataframe tbody tr th:only-of-type {\n",
       "        vertical-align: middle;\n",
       "    }\n",
       "\n",
       "    .dataframe tbody tr th {\n",
       "        vertical-align: top;\n",
       "    }\n",
       "\n",
       "    .dataframe thead th {\n",
       "        text-align: right;\n",
       "    }\n",
       "</style>\n",
       "<table border=\"1\" class=\"dataframe\">\n",
       "  <thead>\n",
       "    <tr style=\"text-align: right;\">\n",
       "      <th></th>\n",
       "      <th>TV</th>\n",
       "      <th>radio</th>\n",
       "      <th>newspaper</th>\n",
       "      <th>sales</th>\n",
       "    </tr>\n",
       "  </thead>\n",
       "  <tbody>\n",
       "    <tr>\n",
       "      <th>1</th>\n",
       "      <td>230.1</td>\n",
       "      <td>37.8</td>\n",
       "      <td>69.2</td>\n",
       "      <td>22.1</td>\n",
       "    </tr>\n",
       "    <tr>\n",
       "      <th>2</th>\n",
       "      <td>44.5</td>\n",
       "      <td>39.3</td>\n",
       "      <td>45.1</td>\n",
       "      <td>10.4</td>\n",
       "    </tr>\n",
       "    <tr>\n",
       "      <th>3</th>\n",
       "      <td>17.2</td>\n",
       "      <td>45.9</td>\n",
       "      <td>69.3</td>\n",
       "      <td>9.3</td>\n",
       "    </tr>\n",
       "    <tr>\n",
       "      <th>4</th>\n",
       "      <td>151.5</td>\n",
       "      <td>41.3</td>\n",
       "      <td>58.5</td>\n",
       "      <td>18.5</td>\n",
       "    </tr>\n",
       "    <tr>\n",
       "      <th>5</th>\n",
       "      <td>180.8</td>\n",
       "      <td>10.8</td>\n",
       "      <td>58.4</td>\n",
       "      <td>12.9</td>\n",
       "    </tr>\n",
       "  </tbody>\n",
       "</table>\n",
       "</div>"
      ],
      "text/plain": [
       "      TV  radio  newspaper  sales\n",
       "1  230.1   37.8       69.2   22.1\n",
       "2   44.5   39.3       45.1   10.4\n",
       "3   17.2   45.9       69.3    9.3\n",
       "4  151.5   41.3       58.5   18.5\n",
       "5  180.8   10.8       58.4   12.9"
      ]
     },
     "execution_count": 2,
     "metadata": {},
     "output_type": "execute_result"
    }
   ],
   "source": [
    "df = pd.read_csv('../data/advertising.csv', index_col=0)\n",
    "df.head()"
   ]
  },
  {
   "cell_type": "code",
   "execution_count": 3,
   "id": "92a9e8b2",
   "metadata": {
    "ExecuteTime": {
     "end_time": "2022-08-15T21:09:54.580812Z",
     "start_time": "2022-08-15T21:09:54.575570Z"
    }
   },
   "outputs": [
    {
     "data": {
      "text/plain": [
       "((200, 3), (200,))"
      ]
     },
     "execution_count": 3,
     "metadata": {},
     "output_type": "execute_result"
    }
   ],
   "source": [
    "# Split into X and y.\n",
    "X = df.drop('sales', axis=1)\n",
    "y = df['sales']\n",
    "\n",
    "X.shape, y.shape"
   ]
  },
  {
   "cell_type": "markdown",
   "id": "f80d0714",
   "metadata": {},
   "source": [
    "## Review: Building a basic model."
   ]
  },
  {
   "cell_type": "code",
   "execution_count": 4,
   "id": "5ec51572",
   "metadata": {
    "ExecuteTime": {
     "end_time": "2022-08-15T21:09:54.586617Z",
     "start_time": "2022-08-15T21:09:54.583020Z"
    }
   },
   "outputs": [],
   "source": [
    "# Build model - single-predictor.\n",
    "model = sm.OLS(y, X['radio']).fit()"
   ]
  },
  {
   "cell_type": "code",
   "execution_count": 5,
   "id": "3cee6cb8",
   "metadata": {
    "ExecuteTime": {
     "end_time": "2022-08-15T21:09:54.605572Z",
     "start_time": "2022-08-15T21:09:54.591352Z"
    }
   },
   "outputs": [
    {
     "data": {
      "text/html": [
       "<table class=\"simpletable\">\n",
       "<caption>OLS Regression Results</caption>\n",
       "<tr>\n",
       "  <th>Dep. Variable:</th>          <td>sales</td>      <th>  R-squared (uncentered):</th>      <td>   0.807</td>\n",
       "</tr>\n",
       "<tr>\n",
       "  <th>Model:</th>                   <td>OLS</td>       <th>  Adj. R-squared (uncentered):</th> <td>   0.806</td>\n",
       "</tr>\n",
       "<tr>\n",
       "  <th>Method:</th>             <td>Least Squares</td>  <th>  F-statistic:       </th>          <td>   834.0</td>\n",
       "</tr>\n",
       "<tr>\n",
       "  <th>Date:</th>             <td>Mon, 15 Aug 2022</td> <th>  Prob (F-statistic):</th>          <td>4.27e-73</td>\n",
       "</tr>\n",
       "<tr>\n",
       "  <th>Time:</th>                 <td>17:09:54</td>     <th>  Log-Likelihood:    </th>          <td> -660.13</td>\n",
       "</tr>\n",
       "<tr>\n",
       "  <th>No. Observations:</th>      <td>   200</td>      <th>  AIC:               </th>          <td>   1322.</td>\n",
       "</tr>\n",
       "<tr>\n",
       "  <th>Df Residuals:</th>          <td>   199</td>      <th>  BIC:               </th>          <td>   1326.</td>\n",
       "</tr>\n",
       "<tr>\n",
       "  <th>Df Model:</th>              <td>     1</td>      <th>                     </th>              <td> </td>   \n",
       "</tr>\n",
       "<tr>\n",
       "  <th>Covariance Type:</th>      <td>nonrobust</td>    <th>                     </th>              <td> </td>   \n",
       "</tr>\n",
       "</table>\n",
       "<table class=\"simpletable\">\n",
       "<tr>\n",
       "    <td></td>       <th>coef</th>     <th>std err</th>      <th>t</th>      <th>P>|t|</th>  <th>[0.025</th>    <th>0.975]</th>  \n",
       "</tr>\n",
       "<tr>\n",
       "  <th>radio</th> <td>    0.4873</td> <td>    0.017</td> <td>   28.879</td> <td> 0.000</td> <td>    0.454</td> <td>    0.521</td>\n",
       "</tr>\n",
       "</table>\n",
       "<table class=\"simpletable\">\n",
       "<tr>\n",
       "  <th>Omnibus:</th>       <td>29.193</td> <th>  Durbin-Watson:     </th> <td>   1.640</td>\n",
       "</tr>\n",
       "<tr>\n",
       "  <th>Prob(Omnibus):</th> <td> 0.000</td> <th>  Jarque-Bera (JB):  </th> <td>  37.013</td>\n",
       "</tr>\n",
       "<tr>\n",
       "  <th>Skew:</th>          <td>-1.014</td> <th>  Prob(JB):          </th> <td>9.18e-09</td>\n",
       "</tr>\n",
       "<tr>\n",
       "  <th>Kurtosis:</th>      <td> 3.577</td> <th>  Cond. No.          </th> <td>    1.00</td>\n",
       "</tr>\n",
       "</table><br/><br/>Warnings:<br/>[1] Standard Errors assume that the covariance matrix of the errors is correctly specified."
      ],
      "text/plain": [
       "<class 'statsmodels.iolib.summary.Summary'>\n",
       "\"\"\"\n",
       "                                 OLS Regression Results                                \n",
       "=======================================================================================\n",
       "Dep. Variable:                  sales   R-squared (uncentered):                   0.807\n",
       "Model:                            OLS   Adj. R-squared (uncentered):              0.806\n",
       "Method:                 Least Squares   F-statistic:                              834.0\n",
       "Date:                Mon, 15 Aug 2022   Prob (F-statistic):                    4.27e-73\n",
       "Time:                        17:09:54   Log-Likelihood:                         -660.13\n",
       "No. Observations:                 200   AIC:                                      1322.\n",
       "Df Residuals:                     199   BIC:                                      1326.\n",
       "Df Model:                           1                                                  \n",
       "Covariance Type:            nonrobust                                                  \n",
       "==============================================================================\n",
       "                 coef    std err          t      P>|t|      [0.025      0.975]\n",
       "------------------------------------------------------------------------------\n",
       "radio          0.4873      0.017     28.879      0.000       0.454       0.521\n",
       "==============================================================================\n",
       "Omnibus:                       29.193   Durbin-Watson:                   1.640\n",
       "Prob(Omnibus):                  0.000   Jarque-Bera (JB):               37.013\n",
       "Skew:                          -1.014   Prob(JB):                     9.18e-09\n",
       "Kurtosis:                       3.577   Cond. No.                         1.00\n",
       "==============================================================================\n",
       "\n",
       "Warnings:\n",
       "[1] Standard Errors assume that the covariance matrix of the errors is correctly specified.\n",
       "\"\"\""
      ]
     },
     "execution_count": 5,
     "metadata": {},
     "output_type": "execute_result"
    }
   ],
   "source": [
    "# Check summary.\n",
    "model.summary()"
   ]
  },
  {
   "cell_type": "code",
   "execution_count": 6,
   "id": "bacaa947",
   "metadata": {
    "ExecuteTime": {
     "end_time": "2022-08-15T21:09:54.631159Z",
     "start_time": "2022-08-15T21:09:54.609718Z"
    }
   },
   "outputs": [
    {
     "data": {
      "text/html": [
       "<table class=\"simpletable\">\n",
       "<caption>OLS Regression Results</caption>\n",
       "<tr>\n",
       "  <th>Dep. Variable:</th>          <td>sales</td>      <th>  R-squared:         </th> <td>   0.332</td>\n",
       "</tr>\n",
       "<tr>\n",
       "  <th>Model:</th>                   <td>OLS</td>       <th>  Adj. R-squared:    </th> <td>   0.329</td>\n",
       "</tr>\n",
       "<tr>\n",
       "  <th>Method:</th>             <td>Least Squares</td>  <th>  F-statistic:       </th> <td>   98.42</td>\n",
       "</tr>\n",
       "<tr>\n",
       "  <th>Date:</th>             <td>Mon, 15 Aug 2022</td> <th>  Prob (F-statistic):</th> <td>4.35e-19</td>\n",
       "</tr>\n",
       "<tr>\n",
       "  <th>Time:</th>                 <td>17:09:54</td>     <th>  Log-Likelihood:    </th> <td> -573.34</td>\n",
       "</tr>\n",
       "<tr>\n",
       "  <th>No. Observations:</th>      <td>   200</td>      <th>  AIC:               </th> <td>   1151.</td>\n",
       "</tr>\n",
       "<tr>\n",
       "  <th>Df Residuals:</th>          <td>   198</td>      <th>  BIC:               </th> <td>   1157.</td>\n",
       "</tr>\n",
       "<tr>\n",
       "  <th>Df Model:</th>              <td>     1</td>      <th>                     </th>     <td> </td>   \n",
       "</tr>\n",
       "<tr>\n",
       "  <th>Covariance Type:</th>      <td>nonrobust</td>    <th>                     </th>     <td> </td>   \n",
       "</tr>\n",
       "</table>\n",
       "<table class=\"simpletable\">\n",
       "<tr>\n",
       "    <td></td>       <th>coef</th>     <th>std err</th>      <th>t</th>      <th>P>|t|</th>  <th>[0.025</th>    <th>0.975]</th>  \n",
       "</tr>\n",
       "<tr>\n",
       "  <th>const</th> <td>    9.3116</td> <td>    0.563</td> <td>   16.542</td> <td> 0.000</td> <td>    8.202</td> <td>   10.422</td>\n",
       "</tr>\n",
       "<tr>\n",
       "  <th>radio</th> <td>    0.2025</td> <td>    0.020</td> <td>    9.921</td> <td> 0.000</td> <td>    0.162</td> <td>    0.243</td>\n",
       "</tr>\n",
       "</table>\n",
       "<table class=\"simpletable\">\n",
       "<tr>\n",
       "  <th>Omnibus:</th>       <td>19.358</td> <th>  Durbin-Watson:     </th> <td>   1.946</td>\n",
       "</tr>\n",
       "<tr>\n",
       "  <th>Prob(Omnibus):</th> <td> 0.000</td> <th>  Jarque-Bera (JB):  </th> <td>  21.910</td>\n",
       "</tr>\n",
       "<tr>\n",
       "  <th>Skew:</th>          <td>-0.764</td> <th>  Prob(JB):          </th> <td>1.75e-05</td>\n",
       "</tr>\n",
       "<tr>\n",
       "  <th>Kurtosis:</th>      <td> 3.544</td> <th>  Cond. No.          </th> <td>    51.4</td>\n",
       "</tr>\n",
       "</table><br/><br/>Warnings:<br/>[1] Standard Errors assume that the covariance matrix of the errors is correctly specified."
      ],
      "text/plain": [
       "<class 'statsmodels.iolib.summary.Summary'>\n",
       "\"\"\"\n",
       "                            OLS Regression Results                            \n",
       "==============================================================================\n",
       "Dep. Variable:                  sales   R-squared:                       0.332\n",
       "Model:                            OLS   Adj. R-squared:                  0.329\n",
       "Method:                 Least Squares   F-statistic:                     98.42\n",
       "Date:                Mon, 15 Aug 2022   Prob (F-statistic):           4.35e-19\n",
       "Time:                        17:09:54   Log-Likelihood:                -573.34\n",
       "No. Observations:                 200   AIC:                             1151.\n",
       "Df Residuals:                     198   BIC:                             1157.\n",
       "Df Model:                           1                                         \n",
       "Covariance Type:            nonrobust                                         \n",
       "==============================================================================\n",
       "                 coef    std err          t      P>|t|      [0.025      0.975]\n",
       "------------------------------------------------------------------------------\n",
       "const          9.3116      0.563     16.542      0.000       8.202      10.422\n",
       "radio          0.2025      0.020      9.921      0.000       0.162       0.243\n",
       "==============================================================================\n",
       "Omnibus:                       19.358   Durbin-Watson:                   1.946\n",
       "Prob(Omnibus):                  0.000   Jarque-Bera (JB):               21.910\n",
       "Skew:                          -0.764   Prob(JB):                     1.75e-05\n",
       "Kurtosis:                       3.544   Cond. No.                         51.4\n",
       "==============================================================================\n",
       "\n",
       "Warnings:\n",
       "[1] Standard Errors assume that the covariance matrix of the errors is correctly specified.\n",
       "\"\"\""
      ]
     },
     "execution_count": 6,
     "metadata": {},
     "output_type": "execute_result"
    }
   ],
   "source": [
    "model = sm.OLS(y, sm.add_constant(X['radio'])).fit()\n",
    "model.summary()"
   ]
  },
  {
   "cell_type": "code",
   "execution_count": 7,
   "id": "eb86eda8",
   "metadata": {
    "ExecuteTime": {
     "end_time": "2022-08-15T21:09:54.639606Z",
     "start_time": "2022-08-15T21:09:54.633692Z"
    }
   },
   "outputs": [],
   "source": [
    "X = sm.add_constant(X)"
   ]
  },
  {
   "cell_type": "code",
   "execution_count": 8,
   "id": "bd3b2774",
   "metadata": {
    "ExecuteTime": {
     "end_time": "2022-08-15T21:09:54.664824Z",
     "start_time": "2022-08-15T21:09:54.642237Z"
    }
   },
   "outputs": [
    {
     "data": {
      "text/html": [
       "<table class=\"simpletable\">\n",
       "<caption>OLS Regression Results</caption>\n",
       "<tr>\n",
       "  <th>Dep. Variable:</th>          <td>sales</td>      <th>  R-squared:         </th> <td>   0.897</td>\n",
       "</tr>\n",
       "<tr>\n",
       "  <th>Model:</th>                   <td>OLS</td>       <th>  Adj. R-squared:    </th> <td>   0.896</td>\n",
       "</tr>\n",
       "<tr>\n",
       "  <th>Method:</th>             <td>Least Squares</td>  <th>  F-statistic:       </th> <td>   570.3</td>\n",
       "</tr>\n",
       "<tr>\n",
       "  <th>Date:</th>             <td>Mon, 15 Aug 2022</td> <th>  Prob (F-statistic):</th> <td>1.58e-96</td>\n",
       "</tr>\n",
       "<tr>\n",
       "  <th>Time:</th>                 <td>17:09:54</td>     <th>  Log-Likelihood:    </th> <td> -386.18</td>\n",
       "</tr>\n",
       "<tr>\n",
       "  <th>No. Observations:</th>      <td>   200</td>      <th>  AIC:               </th> <td>   780.4</td>\n",
       "</tr>\n",
       "<tr>\n",
       "  <th>Df Residuals:</th>          <td>   196</td>      <th>  BIC:               </th> <td>   793.6</td>\n",
       "</tr>\n",
       "<tr>\n",
       "  <th>Df Model:</th>              <td>     3</td>      <th>                     </th>     <td> </td>   \n",
       "</tr>\n",
       "<tr>\n",
       "  <th>Covariance Type:</th>      <td>nonrobust</td>    <th>                     </th>     <td> </td>   \n",
       "</tr>\n",
       "</table>\n",
       "<table class=\"simpletable\">\n",
       "<tr>\n",
       "      <td></td>         <th>coef</th>     <th>std err</th>      <th>t</th>      <th>P>|t|</th>  <th>[0.025</th>    <th>0.975]</th>  \n",
       "</tr>\n",
       "<tr>\n",
       "  <th>const</th>     <td>    2.9389</td> <td>    0.312</td> <td>    9.422</td> <td> 0.000</td> <td>    2.324</td> <td>    3.554</td>\n",
       "</tr>\n",
       "<tr>\n",
       "  <th>TV</th>        <td>    0.0458</td> <td>    0.001</td> <td>   32.809</td> <td> 0.000</td> <td>    0.043</td> <td>    0.049</td>\n",
       "</tr>\n",
       "<tr>\n",
       "  <th>radio</th>     <td>    0.1885</td> <td>    0.009</td> <td>   21.893</td> <td> 0.000</td> <td>    0.172</td> <td>    0.206</td>\n",
       "</tr>\n",
       "<tr>\n",
       "  <th>newspaper</th> <td>   -0.0010</td> <td>    0.006</td> <td>   -0.177</td> <td> 0.860</td> <td>   -0.013</td> <td>    0.011</td>\n",
       "</tr>\n",
       "</table>\n",
       "<table class=\"simpletable\">\n",
       "<tr>\n",
       "  <th>Omnibus:</th>       <td>60.414</td> <th>  Durbin-Watson:     </th> <td>   2.084</td>\n",
       "</tr>\n",
       "<tr>\n",
       "  <th>Prob(Omnibus):</th> <td> 0.000</td> <th>  Jarque-Bera (JB):  </th> <td> 151.241</td>\n",
       "</tr>\n",
       "<tr>\n",
       "  <th>Skew:</th>          <td>-1.327</td> <th>  Prob(JB):          </th> <td>1.44e-33</td>\n",
       "</tr>\n",
       "<tr>\n",
       "  <th>Kurtosis:</th>      <td> 6.332</td> <th>  Cond. No.          </th> <td>    454.</td>\n",
       "</tr>\n",
       "</table><br/><br/>Warnings:<br/>[1] Standard Errors assume that the covariance matrix of the errors is correctly specified."
      ],
      "text/plain": [
       "<class 'statsmodels.iolib.summary.Summary'>\n",
       "\"\"\"\n",
       "                            OLS Regression Results                            \n",
       "==============================================================================\n",
       "Dep. Variable:                  sales   R-squared:                       0.897\n",
       "Model:                            OLS   Adj. R-squared:                  0.896\n",
       "Method:                 Least Squares   F-statistic:                     570.3\n",
       "Date:                Mon, 15 Aug 2022   Prob (F-statistic):           1.58e-96\n",
       "Time:                        17:09:54   Log-Likelihood:                -386.18\n",
       "No. Observations:                 200   AIC:                             780.4\n",
       "Df Residuals:                     196   BIC:                             793.6\n",
       "Df Model:                           3                                         \n",
       "Covariance Type:            nonrobust                                         \n",
       "==============================================================================\n",
       "                 coef    std err          t      P>|t|      [0.025      0.975]\n",
       "------------------------------------------------------------------------------\n",
       "const          2.9389      0.312      9.422      0.000       2.324       3.554\n",
       "TV             0.0458      0.001     32.809      0.000       0.043       0.049\n",
       "radio          0.1885      0.009     21.893      0.000       0.172       0.206\n",
       "newspaper     -0.0010      0.006     -0.177      0.860      -0.013       0.011\n",
       "==============================================================================\n",
       "Omnibus:                       60.414   Durbin-Watson:                   2.084\n",
       "Prob(Omnibus):                  0.000   Jarque-Bera (JB):              151.241\n",
       "Skew:                          -1.327   Prob(JB):                     1.44e-33\n",
       "Kurtosis:                       6.332   Cond. No.                         454.\n",
       "==============================================================================\n",
       "\n",
       "Warnings:\n",
       "[1] Standard Errors assume that the covariance matrix of the errors is correctly specified.\n",
       "\"\"\""
      ]
     },
     "execution_count": 8,
     "metadata": {},
     "output_type": "execute_result"
    }
   ],
   "source": [
    "model = sm.OLS(y, X).fit()\n",
    "model.summary()"
   ]
  },
  {
   "cell_type": "code",
   "execution_count": 9,
   "id": "0d3631ac",
   "metadata": {
    "ExecuteTime": {
     "end_time": "2022-08-15T21:09:54.691261Z",
     "start_time": "2022-08-15T21:09:54.669067Z"
    }
   },
   "outputs": [],
   "source": [
    "X.drop('newspaper', axis=1, inplace=True)"
   ]
  },
  {
   "cell_type": "code",
   "execution_count": 10,
   "id": "b27a2631",
   "metadata": {
    "ExecuteTime": {
     "end_time": "2022-08-15T21:09:54.714495Z",
     "start_time": "2022-08-15T21:09:54.696448Z"
    }
   },
   "outputs": [
    {
     "data": {
      "text/html": [
       "<table class=\"simpletable\">\n",
       "<caption>OLS Regression Results</caption>\n",
       "<tr>\n",
       "  <th>Dep. Variable:</th>          <td>sales</td>      <th>  R-squared:         </th> <td>   0.897</td>\n",
       "</tr>\n",
       "<tr>\n",
       "  <th>Model:</th>                   <td>OLS</td>       <th>  Adj. R-squared:    </th> <td>   0.896</td>\n",
       "</tr>\n",
       "<tr>\n",
       "  <th>Method:</th>             <td>Least Squares</td>  <th>  F-statistic:       </th> <td>   859.6</td>\n",
       "</tr>\n",
       "<tr>\n",
       "  <th>Date:</th>             <td>Mon, 15 Aug 2022</td> <th>  Prob (F-statistic):</th> <td>4.83e-98</td>\n",
       "</tr>\n",
       "<tr>\n",
       "  <th>Time:</th>                 <td>17:09:54</td>     <th>  Log-Likelihood:    </th> <td> -386.20</td>\n",
       "</tr>\n",
       "<tr>\n",
       "  <th>No. Observations:</th>      <td>   200</td>      <th>  AIC:               </th> <td>   778.4</td>\n",
       "</tr>\n",
       "<tr>\n",
       "  <th>Df Residuals:</th>          <td>   197</td>      <th>  BIC:               </th> <td>   788.3</td>\n",
       "</tr>\n",
       "<tr>\n",
       "  <th>Df Model:</th>              <td>     2</td>      <th>                     </th>     <td> </td>   \n",
       "</tr>\n",
       "<tr>\n",
       "  <th>Covariance Type:</th>      <td>nonrobust</td>    <th>                     </th>     <td> </td>   \n",
       "</tr>\n",
       "</table>\n",
       "<table class=\"simpletable\">\n",
       "<tr>\n",
       "    <td></td>       <th>coef</th>     <th>std err</th>      <th>t</th>      <th>P>|t|</th>  <th>[0.025</th>    <th>0.975]</th>  \n",
       "</tr>\n",
       "<tr>\n",
       "  <th>const</th> <td>    2.9211</td> <td>    0.294</td> <td>    9.919</td> <td> 0.000</td> <td>    2.340</td> <td>    3.502</td>\n",
       "</tr>\n",
       "<tr>\n",
       "  <th>TV</th>    <td>    0.0458</td> <td>    0.001</td> <td>   32.909</td> <td> 0.000</td> <td>    0.043</td> <td>    0.048</td>\n",
       "</tr>\n",
       "<tr>\n",
       "  <th>radio</th> <td>    0.1880</td> <td>    0.008</td> <td>   23.382</td> <td> 0.000</td> <td>    0.172</td> <td>    0.204</td>\n",
       "</tr>\n",
       "</table>\n",
       "<table class=\"simpletable\">\n",
       "<tr>\n",
       "  <th>Omnibus:</th>       <td>60.022</td> <th>  Durbin-Watson:     </th> <td>   2.081</td>\n",
       "</tr>\n",
       "<tr>\n",
       "  <th>Prob(Omnibus):</th> <td> 0.000</td> <th>  Jarque-Bera (JB):  </th> <td> 148.679</td>\n",
       "</tr>\n",
       "<tr>\n",
       "  <th>Skew:</th>          <td>-1.323</td> <th>  Prob(JB):          </th> <td>5.19e-33</td>\n",
       "</tr>\n",
       "<tr>\n",
       "  <th>Kurtosis:</th>      <td> 6.292</td> <th>  Cond. No.          </th> <td>    425.</td>\n",
       "</tr>\n",
       "</table><br/><br/>Warnings:<br/>[1] Standard Errors assume that the covariance matrix of the errors is correctly specified."
      ],
      "text/plain": [
       "<class 'statsmodels.iolib.summary.Summary'>\n",
       "\"\"\"\n",
       "                            OLS Regression Results                            \n",
       "==============================================================================\n",
       "Dep. Variable:                  sales   R-squared:                       0.897\n",
       "Model:                            OLS   Adj. R-squared:                  0.896\n",
       "Method:                 Least Squares   F-statistic:                     859.6\n",
       "Date:                Mon, 15 Aug 2022   Prob (F-statistic):           4.83e-98\n",
       "Time:                        17:09:54   Log-Likelihood:                -386.20\n",
       "No. Observations:                 200   AIC:                             778.4\n",
       "Df Residuals:                     197   BIC:                             788.3\n",
       "Df Model:                           2                                         \n",
       "Covariance Type:            nonrobust                                         \n",
       "==============================================================================\n",
       "                 coef    std err          t      P>|t|      [0.025      0.975]\n",
       "------------------------------------------------------------------------------\n",
       "const          2.9211      0.294      9.919      0.000       2.340       3.502\n",
       "TV             0.0458      0.001     32.909      0.000       0.043       0.048\n",
       "radio          0.1880      0.008     23.382      0.000       0.172       0.204\n",
       "==============================================================================\n",
       "Omnibus:                       60.022   Durbin-Watson:                   2.081\n",
       "Prob(Omnibus):                  0.000   Jarque-Bera (JB):              148.679\n",
       "Skew:                          -1.323   Prob(JB):                     5.19e-33\n",
       "Kurtosis:                       6.292   Cond. No.                         425.\n",
       "==============================================================================\n",
       "\n",
       "Warnings:\n",
       "[1] Standard Errors assume that the covariance matrix of the errors is correctly specified.\n",
       "\"\"\""
      ]
     },
     "execution_count": 10,
     "metadata": {},
     "output_type": "execute_result"
    }
   ],
   "source": [
    "model = sm.OLS(y, X).fit()\n",
    "model.summary()"
   ]
  },
  {
   "cell_type": "markdown",
   "id": "615fa60b",
   "metadata": {},
   "source": [
    "## Evaluating performance."
   ]
  },
  {
   "cell_type": "code",
   "execution_count": 11,
   "id": "d0efca2d",
   "metadata": {
    "ExecuteTime": {
     "end_time": "2022-08-15T21:09:54.724856Z",
     "start_time": "2022-08-15T21:09:54.717023Z"
    }
   },
   "outputs": [
    {
     "data": {
      "text/plain": [
       "1      20.555465\n",
       "2      12.345362\n",
       "3      12.337018\n",
       "4      17.617116\n",
       "5      13.223908\n",
       "         ...    \n",
       "196     5.364512\n",
       "197     8.152375\n",
       "198    12.768048\n",
       "199    23.792923\n",
       "200    15.157543\n",
       "Length: 200, dtype: float64"
      ]
     },
     "execution_count": 11,
     "metadata": {},
     "output_type": "execute_result"
    }
   ],
   "source": [
    "# Get predictions.\n",
    "y_pred = model.predict(X)\n",
    "y_pred"
   ]
  },
  {
   "cell_type": "code",
   "execution_count": 12,
   "id": "e759302a",
   "metadata": {
    "ExecuteTime": {
     "end_time": "2022-08-15T21:09:54.731815Z",
     "start_time": "2022-08-15T21:09:54.727058Z"
    }
   },
   "outputs": [
    {
     "data": {
      "text/plain": [
       "1.2537471644234015"
      ]
     },
     "execution_count": 12,
     "metadata": {},
     "output_type": "execute_result"
    }
   ],
   "source": [
    "# MAE - Mean Absoute Error\n",
    "# np.mean(abs(y - y_pred))\n",
    "mean_absolute_error(y, y_pred)"
   ]
  },
  {
   "cell_type": "code",
   "execution_count": 13,
   "id": "3d28e89f",
   "metadata": {
    "ExecuteTime": {
     "end_time": "2022-08-15T21:09:54.740719Z",
     "start_time": "2022-08-15T21:09:54.734791Z"
    }
   },
   "outputs": [
    {
     "data": {
      "text/plain": [
       "2.784569900338092"
      ]
     },
     "execution_count": 13,
     "metadata": {},
     "output_type": "execute_result"
    }
   ],
   "source": [
    "# MSE - Mean Squared Error\n",
    "# np.mean((y - y_pred)**2)\n",
    "mean_squared_error(y, y_pred)"
   ]
  },
  {
   "cell_type": "code",
   "execution_count": 14,
   "id": "ca770d62",
   "metadata": {
    "ExecuteTime": {
     "end_time": "2022-08-15T21:09:54.748526Z",
     "start_time": "2022-08-15T21:09:54.743808Z"
    }
   },
   "outputs": [
    {
     "data": {
      "text/plain": [
       "1.668703059366193"
      ]
     },
     "execution_count": 14,
     "metadata": {},
     "output_type": "execute_result"
    }
   ],
   "source": [
    "# RMSE - Root Mean Squared Error\n",
    "# np.sqrt(np.mean((y - y_pred)**2))\n",
    "np.sqrt(mean_squared_error(y, y_pred))"
   ]
  },
  {
   "cell_type": "markdown",
   "id": "322d8c14",
   "metadata": {},
   "source": [
    "## Processing: Categorical Variables & Scaling."
   ]
  },
  {
   "cell_type": "code",
   "execution_count": 15,
   "id": "0d29c6c5",
   "metadata": {
    "ExecuteTime": {
     "end_time": "2022-08-15T21:09:54.773790Z",
     "start_time": "2022-08-15T21:09:54.756008Z"
    }
   },
   "outputs": [
    {
     "data": {
      "text/html": [
       "<div>\n",
       "<style scoped>\n",
       "    .dataframe tbody tr th:only-of-type {\n",
       "        vertical-align: middle;\n",
       "    }\n",
       "\n",
       "    .dataframe tbody tr th {\n",
       "        vertical-align: top;\n",
       "    }\n",
       "\n",
       "    .dataframe thead th {\n",
       "        text-align: right;\n",
       "    }\n",
       "</style>\n",
       "<table border=\"1\" class=\"dataframe\">\n",
       "  <thead>\n",
       "    <tr style=\"text-align: right;\">\n",
       "      <th></th>\n",
       "      <th>mpg</th>\n",
       "      <th>cylinders</th>\n",
       "      <th>displacement</th>\n",
       "      <th>horsepower</th>\n",
       "      <th>weight</th>\n",
       "      <th>acceleration</th>\n",
       "      <th>model_year</th>\n",
       "      <th>origin</th>\n",
       "      <th>name</th>\n",
       "    </tr>\n",
       "  </thead>\n",
       "  <tbody>\n",
       "    <tr>\n",
       "      <th>0</th>\n",
       "      <td>18.0</td>\n",
       "      <td>8</td>\n",
       "      <td>307.0</td>\n",
       "      <td>130.0</td>\n",
       "      <td>3504</td>\n",
       "      <td>12.0</td>\n",
       "      <td>70</td>\n",
       "      <td>usa</td>\n",
       "      <td>chevrolet chevelle malibu</td>\n",
       "    </tr>\n",
       "    <tr>\n",
       "      <th>1</th>\n",
       "      <td>15.0</td>\n",
       "      <td>8</td>\n",
       "      <td>350.0</td>\n",
       "      <td>165.0</td>\n",
       "      <td>3693</td>\n",
       "      <td>11.5</td>\n",
       "      <td>70</td>\n",
       "      <td>usa</td>\n",
       "      <td>buick skylark 320</td>\n",
       "    </tr>\n",
       "    <tr>\n",
       "      <th>2</th>\n",
       "      <td>18.0</td>\n",
       "      <td>8</td>\n",
       "      <td>318.0</td>\n",
       "      <td>150.0</td>\n",
       "      <td>3436</td>\n",
       "      <td>11.0</td>\n",
       "      <td>70</td>\n",
       "      <td>usa</td>\n",
       "      <td>plymouth satellite</td>\n",
       "    </tr>\n",
       "    <tr>\n",
       "      <th>3</th>\n",
       "      <td>16.0</td>\n",
       "      <td>8</td>\n",
       "      <td>304.0</td>\n",
       "      <td>150.0</td>\n",
       "      <td>3433</td>\n",
       "      <td>12.0</td>\n",
       "      <td>70</td>\n",
       "      <td>usa</td>\n",
       "      <td>amc rebel sst</td>\n",
       "    </tr>\n",
       "    <tr>\n",
       "      <th>4</th>\n",
       "      <td>17.0</td>\n",
       "      <td>8</td>\n",
       "      <td>302.0</td>\n",
       "      <td>140.0</td>\n",
       "      <td>3449</td>\n",
       "      <td>10.5</td>\n",
       "      <td>70</td>\n",
       "      <td>usa</td>\n",
       "      <td>ford torino</td>\n",
       "    </tr>\n",
       "  </tbody>\n",
       "</table>\n",
       "</div>"
      ],
      "text/plain": [
       "    mpg  cylinders  displacement  horsepower  weight  acceleration  \\\n",
       "0  18.0          8         307.0       130.0    3504          12.0   \n",
       "1  15.0          8         350.0       165.0    3693          11.5   \n",
       "2  18.0          8         318.0       150.0    3436          11.0   \n",
       "3  16.0          8         304.0       150.0    3433          12.0   \n",
       "4  17.0          8         302.0       140.0    3449          10.5   \n",
       "\n",
       "   model_year origin                       name  \n",
       "0          70    usa  chevrolet chevelle malibu  \n",
       "1          70    usa          buick skylark 320  \n",
       "2          70    usa         plymouth satellite  \n",
       "3          70    usa              amc rebel sst  \n",
       "4          70    usa                ford torino  "
      ]
     },
     "execution_count": 15,
     "metadata": {},
     "output_type": "execute_result"
    }
   ],
   "source": [
    "# Load mpg dataset.\n",
    "df = sns.load_dataset('mpg')\n",
    "df.head()"
   ]
  },
  {
   "cell_type": "code",
   "execution_count": 16,
   "id": "1346140a",
   "metadata": {
    "ExecuteTime": {
     "end_time": "2022-08-15T21:09:54.787121Z",
     "start_time": "2022-08-15T21:09:54.775719Z"
    }
   },
   "outputs": [
    {
     "data": {
      "text/plain": [
       "((392, 7), (392,))"
      ]
     },
     "execution_count": 16,
     "metadata": {},
     "output_type": "execute_result"
    }
   ],
   "source": [
    "# Drop na.\n",
    "df = df.dropna()\n",
    "\n",
    "df.drop('name', axis=1, inplace=True)\n",
    "\n",
    "# Set X, y.\n",
    "X = df.drop('mpg', axis=1)\n",
    "y = df['mpg']\n",
    "\n",
    "X.shape, y.shape"
   ]
  },
  {
   "cell_type": "code",
   "execution_count": 17,
   "id": "2fa0e66a",
   "metadata": {
    "ExecuteTime": {
     "end_time": "2022-08-15T21:09:54.799877Z",
     "start_time": "2022-08-15T21:09:54.789313Z"
    }
   },
   "outputs": [
    {
     "name": "stdout",
     "output_type": "stream",
     "text": [
      "<class 'pandas.core.frame.DataFrame'>\n",
      "Int64Index: 392 entries, 0 to 397\n",
      "Data columns (total 7 columns):\n",
      " #   Column        Non-Null Count  Dtype  \n",
      "---  ------        --------------  -----  \n",
      " 0   cylinders     392 non-null    int64  \n",
      " 1   displacement  392 non-null    float64\n",
      " 2   horsepower    392 non-null    float64\n",
      " 3   weight        392 non-null    int64  \n",
      " 4   acceleration  392 non-null    float64\n",
      " 5   model_year    392 non-null    int64  \n",
      " 6   origin        392 non-null    object \n",
      "dtypes: float64(3), int64(3), object(1)\n",
      "memory usage: 24.5+ KB\n"
     ]
    }
   ],
   "source": [
    "X.info()"
   ]
  },
  {
   "cell_type": "code",
   "execution_count": 18,
   "id": "1894e18e",
   "metadata": {
    "ExecuteTime": {
     "end_time": "2022-08-15T21:09:55.799406Z",
     "start_time": "2022-08-15T21:09:54.802507Z"
    },
    "scrolled": true
   },
   "outputs": [
    {
     "name": "stdout",
     "output_type": "stream",
     "text": [
      "Cylinders\n"
     ]
    },
    {
     "data": {
      "image/png": "[encoded data removed]",
      "text/plain": [
       "<Figure size 432x288 with 1 Axes>"
      ]
     },
     "metadata": {
      "needs_background": "light"
     },
     "output_type": "display_data"
    },
    {
     "name": "stdout",
     "output_type": "stream",
     "text": [
      "Displacement\n"
     ]
    },
    {
     "data": {
      "image/png": "[encoded data removed]",
      "text/plain": [
       "<Figure size 432x288 with 1 Axes>"
      ]
     },
     "metadata": {
      "needs_background": "light"
     },
     "output_type": "display_data"
    },
    {
     "name": "stdout",
     "output_type": "stream",
     "text": [
      "Horsepower\n"
     ]
    },
    {
     "data": {
      "image/png": "[encoded data removed]",
      "text/plain": [
       "<Figure size 432x288 with 1 Axes>"
      ]
     },
     "metadata": {
      "needs_background": "light"
     },
     "output_type": "display_data"
    },
    {
     "name": "stdout",
     "output_type": "stream",
     "text": [
      "Weight\n"
     ]
    },
    {
     "data": {
      "image/png": "[encoded data removed]",
      "text/plain": [
       "<Figure size 432x288 with 1 Axes>"
      ]
     },
     "metadata": {
      "needs_background": "light"
     },
     "output_type": "display_data"
    },
    {
     "name": "stdout",
     "output_type": "stream",
     "text": [
      "Acceleration\n"
     ]
    },
    {
     "data": {
      "image/png": "[encoded data removed]",
      "text/plain": [
       "<Figure size 432x288 with 1 Axes>"
      ]
     },
     "metadata": {
      "needs_background": "light"
     },
     "output_type": "display_data"
    },
    {
     "name": "stdout",
     "output_type": "stream",
     "text": [
      "Model_Year\n"
     ]
    },
    {
     "data": {
      "image/png": "[encoded data removed]",
      "text/plain": [
       "<Figure size 432x288 with 1 Axes>"
      ]
     },
     "metadata": {
      "needs_background": "light"
     },
     "output_type": "display_data"
    },
    {
     "name": "stdout",
     "output_type": "stream",
     "text": [
      "Origin\n"
     ]
    },
    {
     "data": {
      "image/png": "[encoded data removed]",
      "text/plain": [
       "<Figure size 432x288 with 1 Axes>"
      ]
     },
     "metadata": {
      "needs_background": "light"
     },
     "output_type": "display_data"
    }
   ],
   "source": [
    "for c in X.columns:\n",
    "    print(c.title())\n",
    "    plt.scatter(X[c], y)\n",
    "    plt.show()"
   ]
  },
  {
   "cell_type": "code",
   "execution_count": 19,
   "id": "0642b5c5",
   "metadata": {
    "ExecuteTime": {
     "end_time": "2022-08-15T21:09:55.809152Z",
     "start_time": "2022-08-15T21:09:55.801287Z"
    }
   },
   "outputs": [
    {
     "data": {
      "text/html": [
       "<div>\n",
       "<style scoped>\n",
       "    .dataframe tbody tr th:only-of-type {\n",
       "        vertical-align: middle;\n",
       "    }\n",
       "\n",
       "    .dataframe tbody tr th {\n",
       "        vertical-align: top;\n",
       "    }\n",
       "\n",
       "    .dataframe thead th {\n",
       "        text-align: right;\n",
       "    }\n",
       "</style>\n",
       "<table border=\"1\" class=\"dataframe\">\n",
       "  <thead>\n",
       "    <tr style=\"text-align: right;\">\n",
       "      <th></th>\n",
       "      <th>japan</th>\n",
       "      <th>usa</th>\n",
       "    </tr>\n",
       "  </thead>\n",
       "  <tbody>\n",
       "    <tr>\n",
       "      <th>0</th>\n",
       "      <td>0</td>\n",
       "      <td>1</td>\n",
       "    </tr>\n",
       "    <tr>\n",
       "      <th>1</th>\n",
       "      <td>0</td>\n",
       "      <td>1</td>\n",
       "    </tr>\n",
       "    <tr>\n",
       "      <th>2</th>\n",
       "      <td>0</td>\n",
       "      <td>1</td>\n",
       "    </tr>\n",
       "    <tr>\n",
       "      <th>3</th>\n",
       "      <td>0</td>\n",
       "      <td>1</td>\n",
       "    </tr>\n",
       "    <tr>\n",
       "      <th>4</th>\n",
       "      <td>0</td>\n",
       "      <td>1</td>\n",
       "    </tr>\n",
       "    <tr>\n",
       "      <th>...</th>\n",
       "      <td>...</td>\n",
       "      <td>...</td>\n",
       "    </tr>\n",
       "    <tr>\n",
       "      <th>393</th>\n",
       "      <td>0</td>\n",
       "      <td>1</td>\n",
       "    </tr>\n",
       "    <tr>\n",
       "      <th>394</th>\n",
       "      <td>0</td>\n",
       "      <td>0</td>\n",
       "    </tr>\n",
       "    <tr>\n",
       "      <th>395</th>\n",
       "      <td>0</td>\n",
       "      <td>1</td>\n",
       "    </tr>\n",
       "    <tr>\n",
       "      <th>396</th>\n",
       "      <td>0</td>\n",
       "      <td>1</td>\n",
       "    </tr>\n",
       "    <tr>\n",
       "      <th>397</th>\n",
       "      <td>0</td>\n",
       "      <td>1</td>\n",
       "    </tr>\n",
       "  </tbody>\n",
       "</table>\n",
       "<p>392 rows × 2 columns</p>\n",
       "</div>"
      ],
      "text/plain": [
       "     japan  usa\n",
       "0        0    1\n",
       "1        0    1\n",
       "2        0    1\n",
       "3        0    1\n",
       "4        0    1\n",
       "..     ...  ...\n",
       "393      0    1\n",
       "394      0    0\n",
       "395      0    1\n",
       "396      0    1\n",
       "397      0    1\n",
       "\n",
       "[392 rows x 2 columns]"
      ]
     },
     "execution_count": 19,
     "metadata": {},
     "output_type": "execute_result"
    }
   ],
   "source": [
    "# Use get_dummies() for categorical variables.\n",
    "ohe_cat = pd.get_dummies(X['origin'], drop_first=True)\n",
    "ohe_cat"
   ]
  },
  {
   "cell_type": "code",
   "execution_count": 20,
   "id": "d233147a",
   "metadata": {
    "ExecuteTime": {
     "end_time": "2022-08-15T21:09:55.831105Z",
     "start_time": "2022-08-15T21:09:55.810965Z"
    }
   },
   "outputs": [
    {
     "data": {
      "text/html": [
       "<div>\n",
       "<style scoped>\n",
       "    .dataframe tbody tr th:only-of-type {\n",
       "        vertical-align: middle;\n",
       "    }\n",
       "\n",
       "    .dataframe tbody tr th {\n",
       "        vertical-align: top;\n",
       "    }\n",
       "\n",
       "    .dataframe thead th {\n",
       "        text-align: right;\n",
       "    }\n",
       "</style>\n",
       "<table border=\"1\" class=\"dataframe\">\n",
       "  <thead>\n",
       "    <tr style=\"text-align: right;\">\n",
       "      <th></th>\n",
       "      <th>cylinders</th>\n",
       "      <th>displacement</th>\n",
       "      <th>horsepower</th>\n",
       "      <th>weight</th>\n",
       "      <th>acceleration</th>\n",
       "      <th>model_year</th>\n",
       "      <th>japan</th>\n",
       "      <th>usa</th>\n",
       "    </tr>\n",
       "  </thead>\n",
       "  <tbody>\n",
       "    <tr>\n",
       "      <th>0</th>\n",
       "      <td>8</td>\n",
       "      <td>307.0</td>\n",
       "      <td>130.0</td>\n",
       "      <td>3504</td>\n",
       "      <td>12.0</td>\n",
       "      <td>70</td>\n",
       "      <td>0</td>\n",
       "      <td>1</td>\n",
       "    </tr>\n",
       "    <tr>\n",
       "      <th>1</th>\n",
       "      <td>8</td>\n",
       "      <td>350.0</td>\n",
       "      <td>165.0</td>\n",
       "      <td>3693</td>\n",
       "      <td>11.5</td>\n",
       "      <td>70</td>\n",
       "      <td>0</td>\n",
       "      <td>1</td>\n",
       "    </tr>\n",
       "    <tr>\n",
       "      <th>2</th>\n",
       "      <td>8</td>\n",
       "      <td>318.0</td>\n",
       "      <td>150.0</td>\n",
       "      <td>3436</td>\n",
       "      <td>11.0</td>\n",
       "      <td>70</td>\n",
       "      <td>0</td>\n",
       "      <td>1</td>\n",
       "    </tr>\n",
       "    <tr>\n",
       "      <th>3</th>\n",
       "      <td>8</td>\n",
       "      <td>304.0</td>\n",
       "      <td>150.0</td>\n",
       "      <td>3433</td>\n",
       "      <td>12.0</td>\n",
       "      <td>70</td>\n",
       "      <td>0</td>\n",
       "      <td>1</td>\n",
       "    </tr>\n",
       "    <tr>\n",
       "      <th>4</th>\n",
       "      <td>8</td>\n",
       "      <td>302.0</td>\n",
       "      <td>140.0</td>\n",
       "      <td>3449</td>\n",
       "      <td>10.5</td>\n",
       "      <td>70</td>\n",
       "      <td>0</td>\n",
       "      <td>1</td>\n",
       "    </tr>\n",
       "    <tr>\n",
       "      <th>...</th>\n",
       "      <td>...</td>\n",
       "      <td>...</td>\n",
       "      <td>...</td>\n",
       "      <td>...</td>\n",
       "      <td>...</td>\n",
       "      <td>...</td>\n",
       "      <td>...</td>\n",
       "      <td>...</td>\n",
       "    </tr>\n",
       "    <tr>\n",
       "      <th>393</th>\n",
       "      <td>4</td>\n",
       "      <td>140.0</td>\n",
       "      <td>86.0</td>\n",
       "      <td>2790</td>\n",
       "      <td>15.6</td>\n",
       "      <td>82</td>\n",
       "      <td>0</td>\n",
       "      <td>1</td>\n",
       "    </tr>\n",
       "    <tr>\n",
       "      <th>394</th>\n",
       "      <td>4</td>\n",
       "      <td>97.0</td>\n",
       "      <td>52.0</td>\n",
       "      <td>2130</td>\n",
       "      <td>24.6</td>\n",
       "      <td>82</td>\n",
       "      <td>0</td>\n",
       "      <td>0</td>\n",
       "    </tr>\n",
       "    <tr>\n",
       "      <th>395</th>\n",
       "      <td>4</td>\n",
       "      <td>135.0</td>\n",
       "      <td>84.0</td>\n",
       "      <td>2295</td>\n",
       "      <td>11.6</td>\n",
       "      <td>82</td>\n",
       "      <td>0</td>\n",
       "      <td>1</td>\n",
       "    </tr>\n",
       "    <tr>\n",
       "      <th>396</th>\n",
       "      <td>4</td>\n",
       "      <td>120.0</td>\n",
       "      <td>79.0</td>\n",
       "      <td>2625</td>\n",
       "      <td>18.6</td>\n",
       "      <td>82</td>\n",
       "      <td>0</td>\n",
       "      <td>1</td>\n",
       "    </tr>\n",
       "    <tr>\n",
       "      <th>397</th>\n",
       "      <td>4</td>\n",
       "      <td>119.0</td>\n",
       "      <td>82.0</td>\n",
       "      <td>2720</td>\n",
       "      <td>19.4</td>\n",
       "      <td>82</td>\n",
       "      <td>0</td>\n",
       "      <td>1</td>\n",
       "    </tr>\n",
       "  </tbody>\n",
       "</table>\n",
       "<p>392 rows × 8 columns</p>\n",
       "</div>"
      ],
      "text/plain": [
       "     cylinders  displacement  horsepower  weight  acceleration  model_year  \\\n",
       "0            8         307.0       130.0    3504          12.0          70   \n",
       "1            8         350.0       165.0    3693          11.5          70   \n",
       "2            8         318.0       150.0    3436          11.0          70   \n",
       "3            8         304.0       150.0    3433          12.0          70   \n",
       "4            8         302.0       140.0    3449          10.5          70   \n",
       "..         ...           ...         ...     ...           ...         ...   \n",
       "393          4         140.0        86.0    2790          15.6          82   \n",
       "394          4          97.0        52.0    2130          24.6          82   \n",
       "395          4         135.0        84.0    2295          11.6          82   \n",
       "396          4         120.0        79.0    2625          18.6          82   \n",
       "397          4         119.0        82.0    2720          19.4          82   \n",
       "\n",
       "     japan  usa  \n",
       "0        0    1  \n",
       "1        0    1  \n",
       "2        0    1  \n",
       "3        0    1  \n",
       "4        0    1  \n",
       "..     ...  ...  \n",
       "393      0    1  \n",
       "394      0    0  \n",
       "395      0    1  \n",
       "396      0    1  \n",
       "397      0    1  \n",
       "\n",
       "[392 rows x 8 columns]"
      ]
     },
     "execution_count": 20,
     "metadata": {},
     "output_type": "execute_result"
    }
   ],
   "source": [
    "# Concatinate X to include OHE'd variables.\n",
    "X_processed = pd.concat([X.drop('origin', axis=1), ohe_cat], axis=1)\n",
    "X_processed"
   ]
  },
  {
   "cell_type": "markdown",
   "id": "46ed9637",
   "metadata": {},
   "source": [
    "## Remodeling: Include All Predictors\n"
   ]
  },
  {
   "cell_type": "code",
   "execution_count": 21,
   "id": "f2ed91db",
   "metadata": {
    "ExecuteTime": {
     "end_time": "2022-08-15T21:09:55.842109Z",
     "start_time": "2022-08-15T21:09:55.833295Z"
    }
   },
   "outputs": [],
   "source": [
    "# Build model on mpg.\n",
    "model = sm.OLS(y, sm.add_constant(X_processed)).fit()"
   ]
  },
  {
   "cell_type": "code",
   "execution_count": 22,
   "id": "26d13816",
   "metadata": {
    "ExecuteTime": {
     "end_time": "2022-08-15T21:09:55.862129Z",
     "start_time": "2022-08-15T21:09:55.844037Z"
    }
   },
   "outputs": [
    {
     "data": {
      "text/html": [
       "<table class=\"simpletable\">\n",
       "<caption>OLS Regression Results</caption>\n",
       "<tr>\n",
       "  <th>Dep. Variable:</th>           <td>mpg</td>       <th>  R-squared:         </th> <td>   0.824</td> \n",
       "</tr>\n",
       "<tr>\n",
       "  <th>Model:</th>                   <td>OLS</td>       <th>  Adj. R-squared:    </th> <td>   0.821</td> \n",
       "</tr>\n",
       "<tr>\n",
       "  <th>Method:</th>             <td>Least Squares</td>  <th>  F-statistic:       </th> <td>   224.5</td> \n",
       "</tr>\n",
       "<tr>\n",
       "  <th>Date:</th>             <td>Mon, 15 Aug 2022</td> <th>  Prob (F-statistic):</th> <td>1.79e-139</td>\n",
       "</tr>\n",
       "<tr>\n",
       "  <th>Time:</th>                 <td>17:09:55</td>     <th>  Log-Likelihood:    </th> <td> -1020.5</td> \n",
       "</tr>\n",
       "<tr>\n",
       "  <th>No. Observations:</th>      <td>   392</td>      <th>  AIC:               </th> <td>   2059.</td> \n",
       "</tr>\n",
       "<tr>\n",
       "  <th>Df Residuals:</th>          <td>   383</td>      <th>  BIC:               </th> <td>   2095.</td> \n",
       "</tr>\n",
       "<tr>\n",
       "  <th>Df Model:</th>              <td>     8</td>      <th>                     </th>     <td> </td>    \n",
       "</tr>\n",
       "<tr>\n",
       "  <th>Covariance Type:</th>      <td>nonrobust</td>    <th>                     </th>     <td> </td>    \n",
       "</tr>\n",
       "</table>\n",
       "<table class=\"simpletable\">\n",
       "<tr>\n",
       "        <td></td>          <th>coef</th>     <th>std err</th>      <th>t</th>      <th>P>|t|</th>  <th>[0.025</th>    <th>0.975]</th>  \n",
       "</tr>\n",
       "<tr>\n",
       "  <th>const</th>        <td>  -15.3246</td> <td>    4.602</td> <td>   -3.330</td> <td> 0.001</td> <td>  -24.374</td> <td>   -6.276</td>\n",
       "</tr>\n",
       "<tr>\n",
       "  <th>cylinders</th>    <td>   -0.4897</td> <td>    0.321</td> <td>   -1.524</td> <td> 0.128</td> <td>   -1.121</td> <td>    0.142</td>\n",
       "</tr>\n",
       "<tr>\n",
       "  <th>displacement</th> <td>    0.0240</td> <td>    0.008</td> <td>    3.133</td> <td> 0.002</td> <td>    0.009</td> <td>    0.039</td>\n",
       "</tr>\n",
       "<tr>\n",
       "  <th>horsepower</th>   <td>   -0.0182</td> <td>    0.014</td> <td>   -1.326</td> <td> 0.185</td> <td>   -0.045</td> <td>    0.009</td>\n",
       "</tr>\n",
       "<tr>\n",
       "  <th>weight</th>       <td>   -0.0067</td> <td>    0.001</td> <td>  -10.243</td> <td> 0.000</td> <td>   -0.008</td> <td>   -0.005</td>\n",
       "</tr>\n",
       "<tr>\n",
       "  <th>acceleration</th> <td>    0.0791</td> <td>    0.098</td> <td>    0.805</td> <td> 0.421</td> <td>   -0.114</td> <td>    0.272</td>\n",
       "</tr>\n",
       "<tr>\n",
       "  <th>model_year</th>   <td>    0.7770</td> <td>    0.052</td> <td>   15.005</td> <td> 0.000</td> <td>    0.675</td> <td>    0.879</td>\n",
       "</tr>\n",
       "<tr>\n",
       "  <th>japan</th>        <td>    0.2232</td> <td>    0.566</td> <td>    0.394</td> <td> 0.694</td> <td>   -0.890</td> <td>    1.336</td>\n",
       "</tr>\n",
       "<tr>\n",
       "  <th>usa</th>          <td>   -2.6300</td> <td>    0.566</td> <td>   -4.643</td> <td> 0.000</td> <td>   -3.744</td> <td>   -1.516</td>\n",
       "</tr>\n",
       "</table>\n",
       "<table class=\"simpletable\">\n",
       "<tr>\n",
       "  <th>Omnibus:</th>       <td>23.395</td> <th>  Durbin-Watson:     </th> <td>   1.291</td>\n",
       "</tr>\n",
       "<tr>\n",
       "  <th>Prob(Omnibus):</th> <td> 0.000</td> <th>  Jarque-Bera (JB):  </th> <td>  34.452</td>\n",
       "</tr>\n",
       "<tr>\n",
       "  <th>Skew:</th>          <td> 0.444</td> <th>  Prob(JB):          </th> <td>3.30e-08</td>\n",
       "</tr>\n",
       "<tr>\n",
       "  <th>Kurtosis:</th>      <td> 4.150</td> <th>  Cond. No.          </th> <td>8.56e+04</td>\n",
       "</tr>\n",
       "</table><br/><br/>Warnings:<br/>[1] Standard Errors assume that the covariance matrix of the errors is correctly specified.<br/>[2] The condition number is large, 8.56e+04. This might indicate that there are<br/>strong multicollinearity or other numerical problems."
      ],
      "text/plain": [
       "<class 'statsmodels.iolib.summary.Summary'>\n",
       "\"\"\"\n",
       "                            OLS Regression Results                            \n",
       "==============================================================================\n",
       "Dep. Variable:                    mpg   R-squared:                       0.824\n",
       "Model:                            OLS   Adj. R-squared:                  0.821\n",
       "Method:                 Least Squares   F-statistic:                     224.5\n",
       "Date:                Mon, 15 Aug 2022   Prob (F-statistic):          1.79e-139\n",
       "Time:                        17:09:55   Log-Likelihood:                -1020.5\n",
       "No. Observations:                 392   AIC:                             2059.\n",
       "Df Residuals:                     383   BIC:                             2095.\n",
       "Df Model:                           8                                         \n",
       "Covariance Type:            nonrobust                                         \n",
       "================================================================================\n",
       "                   coef    std err          t      P>|t|      [0.025      0.975]\n",
       "--------------------------------------------------------------------------------\n",
       "const          -15.3246      4.602     -3.330      0.001     -24.374      -6.276\n",
       "cylinders       -0.4897      0.321     -1.524      0.128      -1.121       0.142\n",
       "displacement     0.0240      0.008      3.133      0.002       0.009       0.039\n",
       "horsepower      -0.0182      0.014     -1.326      0.185      -0.045       0.009\n",
       "weight          -0.0067      0.001    -10.243      0.000      -0.008      -0.005\n",
       "acceleration     0.0791      0.098      0.805      0.421      -0.114       0.272\n",
       "model_year       0.7770      0.052     15.005      0.000       0.675       0.879\n",
       "japan            0.2232      0.566      0.394      0.694      -0.890       1.336\n",
       "usa             -2.6300      0.566     -4.643      0.000      -3.744      -1.516\n",
       "==============================================================================\n",
       "Omnibus:                       23.395   Durbin-Watson:                   1.291\n",
       "Prob(Omnibus):                  0.000   Jarque-Bera (JB):               34.452\n",
       "Skew:                           0.444   Prob(JB):                     3.30e-08\n",
       "Kurtosis:                       4.150   Cond. No.                     8.56e+04\n",
       "==============================================================================\n",
       "\n",
       "Warnings:\n",
       "[1] Standard Errors assume that the covariance matrix of the errors is correctly specified.\n",
       "[2] The condition number is large, 8.56e+04. This might indicate that there are\n",
       "strong multicollinearity or other numerical problems.\n",
       "\"\"\""
      ]
     },
     "execution_count": 22,
     "metadata": {},
     "output_type": "execute_result"
    }
   ],
   "source": [
    "# Check summary.\n",
    "model.summary()"
   ]
  },
  {
   "cell_type": "markdown",
   "id": "03c9d546",
   "metadata": {},
   "source": [
    "### Interpreting coefficients."
   ]
  },
  {
   "cell_type": "code",
   "execution_count": null,
   "id": "1cc08e3a",
   "metadata": {},
   "outputs": [],
   "source": []
  },
  {
   "cell_type": "code",
   "execution_count": null,
   "id": "d956b73a",
   "metadata": {},
   "outputs": [],
   "source": []
  },
  {
   "cell_type": "markdown",
   "id": "0d3cbce8",
   "metadata": {},
   "source": [
    "## Checking for Assumptions"
   ]
  },
  {
   "cell_type": "markdown",
   "id": "0af39e5f",
   "metadata": {},
   "source": [
    "### 1. Linearity\n",
    "\n",
    "**The relationship between the target and predictor is linear.** Check this by drawing a scatter plot of your predictor and your target, and see if there is evidence that the relationship might not follow a straight line OR look at the correlation coefficient.\n",
    "\n",
    "**What can I do if it looks like I'm violating this assumption?**\n",
    "\n",
    "- Consider log-scaling your data.\n",
    "- Consider a different type of model!"
   ]
  },
  {
   "cell_type": "markdown",
   "id": "24fbdc35",
   "metadata": {},
   "source": [
    "### 2. Normality\n",
    "The normality assumption states that the model _residuals_ should follow a normal distribution.\n",
    "**Note**: the normality assumption talks about the model residuals and not about the distributions of the variables!\n",
    "\n",
    "**How can I check for this?**\n",
    "* Check the Omnibus value (This is a test for error normality. The probability is the chance that the errors are normally distributed.)\n",
    "    - Normal Test *https://docs.scipy.org/doc/scipy/reference/generated/scipy.stats.normaltest.html*\n",
    "* Build a QQ-Plot.\n",
    "\n",
    "**What can I do if it looks like I'm violating this assumption?**\n",
    "* Drop outliers \n",
    "* Consider log-scaling your data \n",
    "\n",
    "***Demo: Sample Residual Distributions and their QQ-plots.***\n",
    "\n",
    "<img src='https://github.com/learn-co-students/dsc-01-10-11-regression-assumptions-online-ds-ft-031119/raw/master/images/inhouse_qq_plots.png' width=700/>\n",
    "\n",
    "---\n",
    "\n",
    "```python\n",
    "# Demo of `qqplot` code.\n",
    "fig = sm.graphics.qqplot(residuals, line='45', fit=True);\n",
    "```"
   ]
  },
  {
   "cell_type": "code",
   "execution_count": null,
   "id": "3aec80f4",
   "metadata": {},
   "outputs": [],
   "source": []
  },
  {
   "cell_type": "markdown",
   "id": "1836b509",
   "metadata": {},
   "source": [
    "### 3. Homoskedasticity\n",
    "\n",
    "The errors should be homoskedastic. That is, the errors have the same variance.\n",
    "\n",
    "Basically if the residuals are evenly spread through range\n",
    "\n",
    "<img src='https://github.com/learn-co-students/dsc-01-10-11-regression-assumptions-online-ds-ft-031119/raw/master/images/homo_2.png' width=700/>\n",
    "\n",
    "The residual errors have the same variance.\n",
    "\n",
    "**How can I check for this?**\n",
    "\n",
    "* Check the Durbin-Watson score (This is a test for error homoskedasticity. We're looking for values between ~1.5 and ~2.5).\n",
    "    - Documentation: *https://www.statsmodels.org/stable/generated/statsmodels.stats.stattools.durbin_watson.html*\n",
    "    - Demonstration: *https://www.statology.org/durbin-watson-test-python/*\n",
    "* Build an error plot, i.e. a plot of errors for a particular predictor (vs. the values of that predictor).\n",
    "\n",
    "**What can I do if it looks like I'm violating this assumption?**\n",
    "\n",
    "* Consider dropping extreme values.\n",
    "* Consider log-scaling your target.\n",
    "* Consider a different type of model!\n",
    "\n",
    "```python\n",
    "# Demo of Homoskedasticity\n",
    "plt.scatter(x=fitted.fittedvalues,y=fitted.resid)\n",
    "```"
   ]
  },
  {
   "cell_type": "code",
   "execution_count": null,
   "id": "efe0ca64",
   "metadata": {},
   "outputs": [],
   "source": []
  },
  {
   "cell_type": "markdown",
   "id": "cc723461",
   "metadata": {},
   "source": [
    "### 4. Multicollinearity\n",
    "\n",
    "The interpretation of a regression coefficient is that it represents the average change in the dependent variable for each 1 unit change in a predictor, assuming that all the other predictor variables are kept constant. Multicollinearity occurs when 2 or more of the independent variables are highly correlated with each other.\n",
    "\n",
    "**How can I check for this?**\n",
    "1. Use `variance_inflation_factor()`\n",
    "2. Look at a scatter matrix \n",
    "3. Look at a heatmap \n",
    "\n",
    "**What can I do if it looks like I'm violating this assumption?**\n",
    "- Remove features that are highly collinear with each other.\n",
    "\n",
    "#### Important: Note on *VIF*\n",
    "> *The variance inflation factor is a measure for the increase of the\n",
    "variance of the parameter estimates if an additional variable, given by\n",
    "exog_idx is added to the linear regression. It is a measure for\n",
    "multicollinearity of the design matrix, exog.*\n",
    ">\n",
    "> ***One recommendation is that if VIF is greater than 5, then the explanatory\n",
    "variable given by exog_idx is highly collinear with the other explanatory\n",
    "variables***, *and the parameter estimates will have large standard errors\n",
    "because of this.*\n",
    "\n",
    "\n",
    "***Important***\n",
    "- **When using VIF, you must include an intercept (constant column) for the results of this test to be accurate.**"
   ]
  },
  {
   "cell_type": "code",
   "execution_count": 23,
   "id": "bbd66171",
   "metadata": {
    "ExecuteTime": {
     "end_time": "2022-08-15T21:09:55.868919Z",
     "start_time": "2022-08-15T21:09:55.864529Z"
    }
   },
   "outputs": [],
   "source": [
    "# Writing a function to create VIF dictionary.\n",
    "def create_vif_dictionary(X):\n",
    "    \"\"\"\n",
    "    Parameters\n",
    "    ----------\n",
    "    X: Pandas dataframe of predictive variables only.\n",
    "        Should have `.columns` and `.values` attributes.\n",
    "    \"\"\"\n",
    "    \n",
    "    vif_dct = {}\n",
    "\n",
    "    # Loop through each row and set the variable name to the VIF. \n",
    "    for i in range(len(X.columns)):\n",
    "        # Calculate VIF\n",
    "        vif = variance_inflation_factor(X.values, i)\n",
    "        \n",
    "        # Extract column name for dictionary key.\n",
    "        v = X.columns[i]\n",
    "        \n",
    "        # Set value in dictionary.\n",
    "        vif_dct[v] = vif\n",
    "\n",
    "    return vif_dct"
   ]
  },
  {
   "cell_type": "code",
   "execution_count": 24,
   "id": "5108ddd0",
   "metadata": {
    "ExecuteTime": {
     "end_time": "2022-08-15T21:09:55.888774Z",
     "start_time": "2022-08-15T21:09:55.871594Z"
    }
   },
   "outputs": [
    {
     "data": {
      "text/plain": [
       "{'const': 759.4575363121702,\n",
       " 'cylinders': 10.737771242809886,\n",
       " 'displacement': 22.937949637592585,\n",
       " 'horsepower': 9.95726503101407,\n",
       " 'weight': 11.074349163419294,\n",
       " 'acceleration': 2.625905800471691,\n",
       " 'model_year': 1.3013727613032717,\n",
       " 'japan': 1.8487947216504943,\n",
       " 'usa': 2.6960101210141105}"
      ]
     },
     "execution_count": 24,
     "metadata": {},
     "output_type": "execute_result"
    }
   ],
   "source": [
    "create_vif_dictionary(sm.add_constant(X_processed))"
   ]
  },
  {
   "cell_type": "code",
   "execution_count": null,
   "id": "5973c6e4",
   "metadata": {},
   "outputs": [],
   "source": []
  }
 ],
 "metadata": {
  "kernelspec": {
   "display_name": "Python 3",
   "language": "python",
   "name": "python3"
  },
  "language_info": {
   "codemirror_mode": {
    "name": "ipython",
    "version": 3
   },
   "file_extension": ".py",
   "mimetype": "text/x-python",
   "name": "python",
   "nbconvert_exporter": "python",
   "pygments_lexer": "ipython3",
   "version": "3.6.9"
  },
  "toc": {
   "base_numbering": 1,
   "nav_menu": {},
   "number_sections": false,
   "sideBar": true,
   "skip_h1_title": false,
   "title_cell": "Table of Contents",
   "title_sidebar": "Contents",
   "toc_cell": false,
   "toc_position": {
    "height": "calc(100% - 180px)",
    "left": "10px",
    "top": "150px",
    "width": "340px"
   },
   "toc_section_display": true,
   "toc_window_display": true
  }
 },
 "nbformat": 4,
 "nbformat_minor": 5
}
